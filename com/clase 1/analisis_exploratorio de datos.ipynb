{
 "cells": [
  {
   "cell_type": "markdown",
   "id": "42619251-17ac-44a3-982f-1c5bdc8eeda3",
   "metadata": {
    "id": "42619251-17ac-44a3-982f-1c5bdc8eeda3",
    "tags": []
   },
   "source": [
    "# Guía 1 - Análisis Exploratorio de Datos\n",
    "\n",
    "## 1. Introducción\n",
    "\n",
    "El objetivo de este notebook es que hagamos un repaso de las herramientas del ecosistema de datos de Python y, de paso, que comiencen a familiarizarse con el dataset que utilizaremos en las primeras clases. Si alguno/a siente que necesita un repaso más fuerte de Python, dejamos dos notebooks y algunas referencias que pueden utilizar en la Guia 0.\n",
    "\n",
    "Durante las primeras clases vamos a trabajar con el dataset de EverythingALS. [Aquí](https://drive.google.com/file/d/1xzZcm4kRHUikSuuI8DRxS6-1OJ41gZn6/view?usp=sharing)\n",
    "Vamos a dar los primeros pasos dentro de la larga lista de pasos que hacen a un proyecto exitoso de Aprendizaje Automático. El nombre de esta etapa es conocido como Análisis Exploratorio de Datos, y puede ser una de las etapas más entretenidas e instructivas del proceso. Lo que vamos a hacer hoy, entonces, es:\n",
    "\n",
    "\n",
    "1. Conseguir y abrir los datos.\n",
    "1. Explorar y visualizar los datos para comenzar a conocer el dataset. Para ello, es importante tener en la cabeza estas preguntas para guiar el trabajo:\n",
    "    * ¿Qué preguntas podríamos responder con este dataset?¿En qué problemas podemos trabajar?\n",
    "    * ¿Qué atributos pueden ser útiles?\n",
    "    * ¿Necesitamos datos adicionales?\n",
    "\n",
    "\n",
    "#### Resolución\n",
    "\n",
    "En algunos casos, vamos a dejar una resolución mínima de las consignas para que les sirva de puntapié inicial. ¡Ésta no será la norma! \n",
    "\n",
    "### Consigna\n",
    "\n",
    "Les dejamos una guía preliminar para que comiencen a trabajar. Muchos de esos pasos son generales a cualquier proyecto de Ciencia de Datos. Por ese motivo, es importante ser criteriosos/as para saber cuáles son pertinentes y cuáles no en cada proyecto.\n",
    "\n",
    "**Ejercicio**: importa las liberías que utilizaremos. Asegurate de tenerlas todas instaladas en el ambiente que creaste."
   ]
  },
  {
   "cell_type": "code",
   "execution_count": null,
   "id": "e07bbeba-a160-422c-8b35-1a37972be892",
   "metadata": {
    "id": "e07bbeba-a160-422c-8b35-1a37972be892"
   },
   "outputs": [],
   "source": [
    "import numpy as np\n",
    "import pandas as pd\n",
    "\n",
    "### LIBRERIAS PARA GRAFICAR\n",
    "import matplotlib.pyplot as plt\n",
    "import seaborn as sns"
   ]
  },
  {
   "cell_type": "markdown",
   "id": "1fac92d1-54a3-43b6-922d-2d996000e363",
   "metadata": {
    "id": "1fac92d1-54a3-43b6-922d-2d996000e363"
   },
   "source": [
    "**Ejercicio**. Descargar el archivo \"EALS_data.csv\". Abrirlo con Pandas y responder:\n",
    "\n",
    "* ¿Qué tipo de archivo es? \n",
    "* Imprima sus primeros cinco elementos. \n",
    "\n",
    "_Pista: Considere el uso de metodos `pd.read_csv()`, `.head()`. Puede ver su documentacion colocando el signo `?` luego del metodo y ejecutando la celda, e.g. `pd.read_csv?`._\n"
   ]
  },
  {
   "cell_type": "markdown",
   "id": "bb4bc3fd-1ff5-46ef-9fcd-0b0bf3c1fc80",
   "metadata": {
    "id": "bb4bc3fd-1ff5-46ef-9fcd-0b0bf3c1fc80"
   },
   "source": [
    "Cargamos los datos e imprimos las cinco primeras filas del DataFrame."
   ]
  },
  {
   "cell_type": "code",
   "execution_count": null,
   "id": "yTdRmo3F0eUh",
   "metadata": {
    "id": "yTdRmo3F0eUh",
    "outputId": "17d1e317-f8fd-41bf-e315-8d290f9a14b7"
   },
   "outputs": [],
   "source": [
    "data = pd.read_csv('EALS_data_con_features_1C_2024.csv', parse_dates=['UTC_date', 'onset_date'])\n",
    "data.head()"
   ]
  },
  {
   "cell_type": "markdown",
   "id": "a60f2d89-9174-4440-9bfa-c70be6123bfc",
   "metadata": {
    "id": "a60f2d89-9174-4440-9bfa-c70be6123bfc",
    "jp-MarkdownHeadingCollapsed": true,
    "tags": []
   },
   "source": [
    "**Ejercicio:** ¿Cuántas columnas tiene?¿Cuáles son sus nombres?¿Y cuántas filas (instancias)? Pistas: `.shape`, `.columns`."
   ]
  },
  {
   "cell_type": "code",
   "execution_count": null,
   "id": "2c1baee8-b6da-40dd-a69c-0ebfe58366a4",
   "metadata": {
    "id": "2c1baee8-b6da-40dd-a69c-0ebfe58366a4",
    "outputId": "4529f58b-d215-46b5-b894-f799d61fc1a8"
   },
   "outputs": [],
   "source": [
    "print(data.shape)"
   ]
  },
  {
   "cell_type": "markdown",
   "id": "907617a2-2f30-489c-8740-802cf10df645",
   "metadata": {
    "id": "907617a2-2f30-489c-8740-802cf10df645"
   },
   "source": [
    "El dataset tiene 3364 filas, 13 columnas. Sus nombres son:"
   ]
  },
  {
   "cell_type": "code",
   "execution_count": null,
   "id": "edb865df-2b7b-41f1-ad19-ca59e0faa60b",
   "metadata": {
    "id": "edb865df-2b7b-41f1-ad19-ca59e0faa60b",
    "outputId": "4d53685b-1d11-4774-a98c-f6ff5d544fed"
   },
   "outputs": [],
   "source": [
    "data.columns"
   ]
  },
  {
   "cell_type": "markdown",
   "id": "9e719711",
   "metadata": {},
   "source": [
    "## 2. Descripción del conjunto de datos\n",
    "\n",
    "Los usuarios (`user_id`) pueden ser controles o pacientes (`pac`). Cada cierta cantidad de días, los usuarios se graban haciendo una serie de tareas. Cada grabación es una sesión (`session_id`), que tiene una fecha (`UTC_date`). Respecto a los pacientes, tenemos cuándo arrancan con la enfermedad (`onset_date`), y si sus síntomas arrancan en el centro bulbar (`site_of_onset_bulbar`).\n",
    "\n",
    "Luego hay unos valores de una escala típica del ALS, la [ALSFRS-R](https://www.encals.eu/wp-content/uploads/2017/12/ALSFRS-R-Spanish-version.pdf). Es una escala autoreportada sobre distintas actividades cotidianas (hablar, comer, tragar, etc.). Son 12 preguntas que van de 0 a 4 (0 peor valor, 4 mejor valor), pero no están todas las preguntas. Sólo está la primera (`alsfrsr_1`), que está relacionada con el habla; la suma de las tres primeras relacionadas con el habla y el tracto vocal (`bulbar`, de 0 a 12, pero nadie puede tener 0) y la suma de las 12 preguntas (`alsfrsr`, de 0 a 48, pero nadie puede tener 0 ni valores muy bajos).\n",
    "\n",
    "Finalmente, pueden encontrar dos atributos, `speaking_rate` y `intelligibility`. El primero está asociado a la velocidad del habla (palabras por segundo), y el segundo - como su nombre indica - a la inteligibilidad.\n"
   ]
  },
  {
   "cell_type": "markdown",
   "id": "85ca2e93-7aaf-4fba-a098-1d6193f4c12c",
   "metadata": {
    "id": "85ca2e93-7aaf-4fba-a098-1d6193f4c12c",
    "jp-MarkdownHeadingCollapsed": true,
    "tags": []
   },
   "source": [
    "**Ejercicio:** ¿Cuántos usuarios hay?¿Cuántos controles y cuántos pacientes?¿Cuál es el promedio de sesiones por usuarios?¿Cuáles son los usuarios con mayor y menor número de sesiones?\n",
    "\n",
    "Pista: las funciones `.nunique()` y `.groupby()` pueden ser útiles."
   ]
  },
  {
   "cell_type": "code",
   "execution_count": null,
   "id": "5010c0dc",
   "metadata": {},
   "outputs": [],
   "source": [
    "data.user_id.nunique()"
   ]
  },
  {
   "cell_type": "code",
   "execution_count": null,
   "id": "f95ae745-d65a-45db-a57f-f6e15978e5a5",
   "metadata": {
    "id": "f95ae745-d65a-45db-a57f-f6e15978e5a5",
    "outputId": "caa01d34-0b42-47ba-bd73-47520ac8c826"
   },
   "outputs": [],
   "source": [
    "data.groupby('pac').user_id.nunique()"
   ]
  },
  {
   "cell_type": "code",
   "execution_count": null,
   "id": "e4917414",
   "metadata": {},
   "outputs": [],
   "source": [
    "### COMPLETAR"
   ]
  },
  {
   "cell_type": "markdown",
   "id": "c0f222f4",
   "metadata": {},
   "source": [
    "**Ejercicio:** realizar un histograma de la cantidad de sesiones por usuario. Luego, repetir el gráfico, pero haciendo un histograma por cada grupo."
   ]
  },
  {
   "cell_type": "code",
   "execution_count": null,
   "id": "2b85012b",
   "metadata": {},
   "outputs": [],
   "source": [
    "data.groupby('user_id').session_id.nunique().hist(bins = 20)\n",
    "plt.xlabel('Número de sesiones por usuario')"
   ]
  },
  {
   "cell_type": "code",
   "execution_count": null,
   "id": "75c24ff6",
   "metadata": {},
   "outputs": [],
   "source": [
    "data.query('not pac').groupby('user_id').session_id.nunique().hist(bins = np.linspace(0,80, 21), alpha = 0.5, label = 'Controles')\n",
    "data.query('pac').groupby('user_id').session_id.nunique().hist(bins = np.linspace(0,80, 21), alpha = 0.5, label = 'Pacientes')\n",
    "plt.legend()\n",
    "plt.title('Histograma del número de sesiones por usuario')\n",
    "plt.xlabel('Número de sesiones')\n",
    "plt.ylabel('Cuentas')"
   ]
  },
  {
   "cell_type": "markdown",
   "id": "a2f557e5",
   "metadata": {},
   "source": [
    "**Ejercicio:** estudiar las distribuciones de las columnas asociadas al ALSFRS-R. Pistas: para variables continuas, puedes usar histogramas. Para variables categóricas, puede ser útil la función `value_counts()` de Pandas o usar gráficos de barras. ¿Cómo varían las distribuciones al separar por grupo?"
   ]
  },
  {
   "cell_type": "code",
   "execution_count": null,
   "id": "f08bdb60",
   "metadata": {},
   "outputs": [],
   "source": [
    "data.groupby('pac').bulbar.hist(alpha = 0.5, rwidth=0.9)\n",
    "### Completar"
   ]
  },
  {
   "cell_type": "code",
   "execution_count": null,
   "id": "ed3bf923",
   "metadata": {},
   "outputs": [],
   "source": [
    "tira_de_numeros = np.random.choice([0,67], size = 1000, replace=True, p=[0.75,0.25])\n",
    "tira_de_numeros"
   ]
  },
  {
   "cell_type": "code",
   "execution_count": null,
   "id": "c04495e4",
   "metadata": {},
   "outputs": [],
   "source": [
    "plt.hist(tira_de_numeros, density=False, weights=100*np.ones_like(tira_de_numeros)/len(tira_de_numeros))"
   ]
  },
  {
   "cell_type": "code",
   "execution_count": null,
   "id": "9a8da86c",
   "metadata": {},
   "outputs": [],
   "source": [
    "fig, axs = plt.subplots(1, 3, figsize=(15, 5))\n",
    "(data.alsfrsr).hist(density=False, ax = axs[0])\n",
    "(data.alsfrsr).hist(density=True, ax = axs[1])\n",
    "\n",
    "### ADD histogram of frequencies in each bin\n",
    "(data.alsfrsr).hist(density=False, ax = axs[2], weights=np.ones_like(data.alsfrsr)/len(data.alsfrsr))"
   ]
  },
  {
   "cell_type": "code",
   "execution_count": null,
   "id": "7dc13343",
   "metadata": {},
   "outputs": [],
   "source": [
    "(data.alsfrsr/10).hist(density=True)"
   ]
  },
  {
   "cell_type": "code",
   "execution_count": null,
   "id": "36fd2c3a",
   "metadata": {},
   "outputs": [],
   "source": [
    "### COMPLETAR"
   ]
  },
  {
   "cell_type": "markdown",
   "id": "01ed5275",
   "metadata": {},
   "source": [
    "## 3. Atributos\n",
    "\n",
    "**Para pensar.** Ahora que tienes una idea de lo que hay en el dataset, vuelve sobre estas preguntas: \n",
    "\n",
    "* ¿Qué preguntas podríamos responder con este dataset?¿En qué problemas podemos trabajar?\n",
    "* ¿Qué atributos pueden ser útiles? Explora `speaking_rate` y `intelligibility`.\n",
    "* ¿Necesitamos datos adicionales?\n",
    "\n",
    "Recomendamos discutirlas en grupo y con los y las docentes. No te preocupes si te parece difícil, ya que esas preguntas requieren conocimiento experto del tema. Sin embargo, siempre vale la pena hacer ese ejercicio.\n",
    "\n",
    "Una vez que lo hayas pensado y debatido, sigue con el notebook más abajo. \n",
    "\n",
    "\n",
    "**Ejercicio** Interpreta el siguiente gráfico. Si es necesario, modifica algunos de sus límites y parámetros para que sea más claro."
   ]
  },
  {
   "cell_type": "code",
   "execution_count": null,
   "id": "5d33a040",
   "metadata": {},
   "outputs": [],
   "source": [
    "sns.scatterplot(x='speaking_rate', y = 'intelligibility', data=data, hue='pac', alpha=0.05)"
   ]
  },
  {
   "cell_type": "markdown",
   "id": "aad7104a",
   "metadata": {},
   "source": [
    "**Ejercicio - Calidad de los datos**. \n",
    "\n",
    "Estudiar si hay:    \n",
    "1. Valores Faltantes\n",
    "1. Entradas duplicadas\n",
    "1. Valores atípicos\n",
    "1. Consistencia interna. Esto refiere a estudiar si no hay información contradictoria en el DataFrame. Qué estudiar dependerá del objetivo del análisis, por lo que puede ser difícil hacerlo sin un objetivo claro.\n",
    "   "
   ]
  },
  {
   "cell_type": "markdown",
   "id": "cd68535d",
   "metadata": {},
   "source": [
    "**Valores faltantes**"
   ]
  },
  {
   "cell_type": "code",
   "execution_count": null,
   "id": "35ef701f",
   "metadata": {},
   "outputs": [],
   "source": [
    "data.isna().sum()"
   ]
  },
  {
   "cell_type": "markdown",
   "id": "f63518aa",
   "metadata": {},
   "source": [
    "Sin embargo, estos datos faltantes no nos molestan. ¿Por qué?"
   ]
  },
  {
   "cell_type": "code",
   "execution_count": null,
   "id": "558d847f",
   "metadata": {},
   "outputs": [],
   "source": [
    "### Completar"
   ]
  },
  {
   "cell_type": "code",
   "execution_count": null,
   "id": "5b90405a",
   "metadata": {},
   "outputs": [],
   "source": []
  }
 ],
 "metadata": {
  "colab": {
   "provenance": []
  },
  "kernelspec": {
   "display_name": "Python 3 (ipykernel)",
   "language": "python",
   "name": "python3"
  },
  "language_info": {
   "codemirror_mode": {
    "name": "ipython",
    "version": 3
   },
   "file_extension": ".py",
   "mimetype": "text/x-python",
   "name": "python",
   "nbconvert_exporter": "python",
   "pygments_lexer": "ipython3",
   "version": "3.10.8"
  }
 },
 "nbformat": 4,
 "nbformat_minor": 5
}
